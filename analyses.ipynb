{
 "cells": [
  {
   "cell_type": "code",
   "execution_count": 1,
   "metadata": {},
   "outputs": [],
   "source": [
    "from principal_DBN_alpha import *\n",
    "from principal_RBM_alpha import *\n",
    "from utils import *\n",
    "from tqdm import tqdm, notebook\n",
    "import matplotlib.pyplot as plt"
   ]
  },
  {
   "cell_type": "markdown",
   "metadata": {},
   "source": [
    "# Etude sur Binary AlphaDigit"
   ]
  },
  {
   "cell_type": "code",
   "execution_count": 2,
   "metadata": {},
   "outputs": [],
   "source": [
    "data = lire_alpha_digit(caracs, path_data=path_data)"
   ]
  },
  {
   "cell_type": "markdown",
   "metadata": {},
   "source": [
    "## RBM "
   ]
  },
  {
   "cell_type": "markdown",
   "metadata": {},
   "source": [
    "On entraine un RBM sur les données de Binary AlphaDigit puis on genere des images à partir de ce qu'il a appris."
   ]
  },
  {
   "cell_type": "code",
   "execution_count": 3,
   "metadata": {},
   "outputs": [],
   "source": [
    "neurons = 200\n",
    "epochs = 200\n",
    "nb_pixels = 20*16\n",
    "learning_rate = 0.1\n",
    "gibbs_steps = 200"
   ]
  },
  {
   "cell_type": "code",
   "execution_count": 4,
   "metadata": {},
   "outputs": [
    {
     "data": {
      "text/plain": [
       "(1404, 320)"
      ]
     },
     "execution_count": 4,
     "metadata": {},
     "output_type": "execute_result"
    }
   ],
   "source": [
    "data.shape"
   ]
  },
  {
   "cell_type": "markdown",
   "metadata": {},
   "source": [
    "On entraine un RBM pour chaque caractère."
   ]
  },
  {
   "cell_type": "code",
   "execution_count": 4,
   "metadata": {},
   "outputs": [
    {
     "data": {
      "application/vnd.jupyter.widget-view+json": {
       "model_id": "c3badb6ea11543f089ef644356d36910",
       "version_major": 2,
       "version_minor": 0
      },
      "text/plain": [
       "Characters:   0%|          | 0/36 [00:00<?, ?char/s]"
      ]
     },
     "metadata": {},
     "output_type": "display_data"
    },
    {
     "name": "stderr",
     "output_type": "stream",
     "text": [
      "Training RBM: 100%|██████████| 200/200 [00:01<00:00, 121.02epoch/s, reconstruction_error=0.48]\n",
      "Training RBM: 100%|██████████| 200/200 [00:01<00:00, 129.82epoch/s, reconstruction_error=1.92]\n",
      "Training RBM: 100%|██████████| 200/200 [00:01<00:00, 123.69epoch/s, reconstruction_error=0.21]\n",
      "Training RBM: 100%|██████████| 200/200 [00:01<00:00, 133.22epoch/s, reconstruction_error=0.35]\n",
      "Training RBM: 100%|██████████| 200/200 [00:01<00:00, 128.99epoch/s, reconstruction_error=0.24]\n",
      "Training RBM: 100%|██████████| 200/200 [00:01<00:00, 137.06epoch/s, reconstruction_error=0.24]\n",
      "Training RBM: 100%|██████████| 200/200 [00:01<00:00, 128.12epoch/s, reconstruction_error=0.36]\n",
      "Training RBM: 100%|██████████| 200/200 [00:01<00:00, 122.46epoch/s, reconstruction_error=0.15]\n",
      "Training RBM: 100%|██████████| 200/200 [00:01<00:00, 123.81epoch/s, reconstruction_error=0.55]\n",
      "Training RBM: 100%|██████████| 200/200 [00:01<00:00, 126.18epoch/s, reconstruction_error=0.37]\n",
      "Training RBM: 100%|██████████| 200/200 [00:01<00:00, 123.44epoch/s, reconstruction_error=0.25]\n",
      "Training RBM: 100%|██████████| 200/200 [00:01<00:00, 125.11epoch/s, reconstruction_error=0.34]\n",
      "Training RBM: 100%|██████████| 200/200 [00:01<00:00, 121.22epoch/s, reconstruction_error=0.19]\n",
      "Training RBM: 100%|██████████| 200/200 [00:01<00:00, 127.02epoch/s, reconstruction_error=0.23]\n",
      "Training RBM: 100%|██████████| 200/200 [00:01<00:00, 127.62epoch/s, reconstruction_error=0.25]\n",
      "Training RBM: 100%|██████████| 200/200 [00:01<00:00, 121.26epoch/s, reconstruction_error=0.26]\n",
      "Training RBM: 100%|██████████| 200/200 [00:01<00:00, 122.53epoch/s, reconstruction_error=0.24]\n",
      "Training RBM: 100%|██████████| 200/200 [00:01<00:00, 125.05epoch/s, reconstruction_error=0.27]\n",
      "Training RBM: 100%|██████████| 200/200 [00:01<00:00, 126.17epoch/s, reconstruction_error=0.19]\n",
      "Training RBM: 100%|██████████| 200/200 [00:01<00:00, 127.31epoch/s, reconstruction_error=0.15]\n",
      "Training RBM: 100%|██████████| 200/200 [00:01<00:00, 122.64epoch/s, reconstruction_error=0.22]\n",
      "Training RBM: 100%|██████████| 200/200 [00:01<00:00, 128.98epoch/s, reconstruction_error=0.16]\n",
      "Training RBM: 100%|██████████| 200/200 [00:01<00:00, 122.60epoch/s, reconstruction_error=0.20]\n",
      "Training RBM: 100%|██████████| 200/200 [00:01<00:00, 126.60epoch/s, reconstruction_error=0.40]\n",
      "Training RBM: 100%|██████████| 200/200 [00:01<00:00, 118.85epoch/s, reconstruction_error=0.41]\n",
      "Training RBM: 100%|██████████| 200/200 [00:01<00:00, 120.06epoch/s, reconstruction_error=0.31]\n",
      "Training RBM: 100%|██████████| 200/200 [00:01<00:00, 118.73epoch/s, reconstruction_error=0.45]\n",
      "Training RBM: 100%|██████████| 200/200 [00:01<00:00, 120.06epoch/s, reconstruction_error=0.34]\n",
      "Training RBM: 100%|██████████| 200/200 [00:01<00:00, 123.67epoch/s, reconstruction_error=0.23]\n",
      "Training RBM: 100%|██████████| 200/200 [00:01<00:00, 127.30epoch/s, reconstruction_error=0.12]\n",
      "Training RBM: 100%|██████████| 200/200 [00:01<00:00, 119.78epoch/s, reconstruction_error=0.23]\n",
      "Training RBM: 100%|██████████| 200/200 [00:01<00:00, 117.75epoch/s, reconstruction_error=0.25]\n",
      "Training RBM: 100%|██████████| 200/200 [00:01<00:00, 124.97epoch/s, reconstruction_error=0.21]\n",
      "Training RBM: 100%|██████████| 200/200 [00:01<00:00, 123.69epoch/s, reconstruction_error=0.19]\n",
      "Training RBM: 100%|██████████| 200/200 [00:01<00:00, 121.19epoch/s, reconstruction_error=0.12]\n",
      "Training RBM: 100%|██████████| 200/200 [00:01<00:00, 118.07epoch/s, reconstruction_error=0.25]\n"
     ]
    }
   ],
   "source": [
    "list_rbm_caracs = []\n",
    "for carac in notebook.tqdm(list(caracs.keys()), desc=\"Characters\", unit=\"char\", leave=False):\n",
    "    data = lire_alpha_digit([carac], path_data)\n",
    "    nb_pixels = data.shape[1]\n",
    "    rbm = RBM(p = nb_pixels, q = neurons)\n",
    "    rbm.train_RBM(x=data, epochs=epochs, lr=learning_rate, show_progress=True)\n",
    "    list_rbm_caracs.append(rbm)"
   ]
  },
  {
   "cell_type": "markdown",
   "metadata": {},
   "source": [
    "On genere des images des caractères en utilisant la méthode de Gibbs Sampling."
   ]
  },
  {
   "cell_type": "code",
   "execution_count": 5,
   "metadata": {},
   "outputs": [
    {
     "data": {
      "image/png": "[encoded data removed]",
      "text/plain": [
       "<Figure size 1000x700 with 36 Axes>"
      ]
     },
     "metadata": {},
     "output_type": "display_data"
    }
   ],
   "source": [
    "fig, axs = plt.subplots(4, 9, figsize=(10, 7), sharex=True, sharey=True)\n",
    "axs = axs.flatten()\n",
    "\n",
    "for i, rbm in enumerate(list_rbm_caracs):\n",
    "    img = rbm.generer_image_RBM(gibbs_steps, 1)  # 1 image with 100 Gibbs steps\n",
    "    \n",
    "    img_reshaped = img[0].cpu().reshape(20, 16)\n",
    "    \n",
    "    axs[i].imshow(img_reshaped, cmap='Greys')\n",
    "    axs[i].set_title(list(caracs.keys())[i])\n",
    "    axs[i].axis('off')\n",
    "\n",
    "# Adjust layout to prevent overlap\n",
    "# plt.tight_layout()\n",
    "plt.show()\n"
   ]
  },
  {
   "cell_type": "markdown",
   "metadata": {},
   "source": [
    "## DBN"
   ]
  },
  {
   "cell_type": "code",
   "execution_count": 7,
   "metadata": {},
   "outputs": [
    {
     "data": {
      "application/vnd.jupyter.widget-view+json": {
       "model_id": "3bcf938eca334e7a94f341093b362aba",
       "version_major": 2,
       "version_minor": 0
      },
      "text/plain": [
       "Characters:   0%|          | 0/36 [00:00<?, ?char/s]"
      ]
     },
     "metadata": {},
     "output_type": "display_data"
    },
    {
     "name": "stderr",
     "output_type": "stream",
     "text": [
      "Training DBN: 100%|██████████| 3/3 [00:02<00:00,  1.42RBM/s]\n",
      "Training DBN: 100%|██████████| 3/3 [00:01<00:00,  1.64RBM/s]\n",
      "Training DBN: 100%|██████████| 3/3 [00:01<00:00,  1.54RBM/s]\n",
      "Training DBN: 100%|██████████| 3/3 [00:02<00:00,  1.39RBM/s]\n",
      "Training DBN: 100%|██████████| 3/3 [00:01<00:00,  1.63RBM/s]\n",
      "Training DBN: 100%|██████████| 3/3 [00:01<00:00,  1.59RBM/s]\n",
      "Training DBN: 100%|██████████| 3/3 [00:02<00:00,  1.46RBM/s]\n",
      "Training DBN: 100%|██████████| 3/3 [00:02<00:00,  1.31RBM/s]\n",
      "Training DBN: 100%|██████████| 3/3 [00:02<00:00,  1.46RBM/s]\n",
      "Training DBN: 100%|██████████| 3/3 [00:01<00:00,  1.62RBM/s]\n",
      "Training DBN: 100%|██████████| 3/3 [00:01<00:00,  1.64RBM/s]\n",
      "Training DBN: 100%|██████████| 3/3 [00:02<00:00,  1.43RBM/s]\n",
      "Training DBN: 100%|██████████| 3/3 [00:01<00:00,  1.63RBM/s]\n",
      "Training DBN: 100%|██████████| 3/3 [00:01<00:00,  1.52RBM/s]\n",
      "Training DBN: 100%|██████████| 3/3 [00:01<00:00,  1.51RBM/s]\n",
      "Training DBN: 100%|██████████| 3/3 [00:01<00:00,  1.57RBM/s]\n",
      "Training DBN: 100%|██████████| 3/3 [00:01<00:00,  1.64RBM/s]\n",
      "Training DBN: 100%|██████████| 3/3 [00:01<00:00,  1.53RBM/s]\n",
      "Training DBN: 100%|██████████| 3/3 [00:01<00:00,  1.55RBM/s]\n",
      "Training DBN: 100%|██████████| 3/3 [00:02<00:00,  1.47RBM/s]\n",
      "Training DBN: 100%|██████████| 3/3 [00:01<00:00,  1.59RBM/s]\n",
      "Training DBN: 100%|██████████| 3/3 [00:01<00:00,  1.54RBM/s]\n",
      "Training DBN: 100%|██████████| 3/3 [00:01<00:00,  1.52RBM/s]\n",
      "Training DBN: 100%|██████████| 3/3 [00:02<00:00,  1.47RBM/s]\n",
      "Training DBN: 100%|██████████| 3/3 [00:02<00:00,  1.49RBM/s]\n",
      "Training DBN: 100%|██████████| 3/3 [00:01<00:00,  1.65RBM/s]\n",
      "Training DBN: 100%|██████████| 3/3 [00:01<00:00,  1.56RBM/s]\n",
      "Training DBN: 100%|██████████| 3/3 [00:01<00:00,  1.56RBM/s]\n",
      "Training DBN: 100%|██████████| 3/3 [00:01<00:00,  1.64RBM/s]\n",
      "Training DBN: 100%|██████████| 3/3 [00:01<00:00,  1.60RBM/s]\n",
      "Training DBN: 100%|██████████| 3/3 [00:01<00:00,  1.57RBM/s]\n",
      "Training DBN: 100%|██████████| 3/3 [00:01<00:00,  1.58RBM/s]\n",
      "Training DBN: 100%|██████████| 3/3 [00:02<00:00,  1.47RBM/s]\n",
      "Training DBN: 100%|██████████| 3/3 [00:02<00:00,  1.48RBM/s]\n",
      "Training DBN: 100%|██████████| 3/3 [00:02<00:00,  1.40RBM/s]\n",
      "Training DBN: 100%|██████████| 3/3 [00:01<00:00,  1.52RBM/s]\n"
     ]
    }
   ],
   "source": [
    "liste_dbn_caracs = []\n",
    "for carac in notebook.tqdm(list(caracs.keys()), desc=\"Characters\", unit=\"char\", leave=True):\n",
    "            data = lire_alpha_digit([carac], path_data)     \n",
    "            nb_pixels = data.shape[1]\n",
    "            # les couches du dbn (de chaque rbm en soit)\n",
    "            layers = [nb_pixels, neurons, neurons, neurons]\n",
    "\n",
    "            dbn = DBN(layers=layers)\n",
    "            dbn.train_DBN(x=data, epochs=[epochs], lr=learning_rate, plot=False, show_progress=True)\n",
    "            liste_dbn_caracs.append(dbn)"
   ]
  },
  {
   "cell_type": "code",
   "execution_count": 8,
   "metadata": {},
   "outputs": [
    {
     "data": {
      "image/png": "[encoded data removed]",
      "text/plain": [
       "<Figure size 1000x700 with 36 Axes>"
      ]
     },
     "metadata": {},
     "output_type": "display_data"
    }
   ],
   "source": [
    "fig, axs = plt.subplots(4, 9, figsize=(10, 7), sharex=True, sharey=True)\n",
    "axs = axs.flatten()\n",
    "\n",
    "for i, dbn in enumerate(liste_dbn_caracs):\n",
    "    img = dbn.generer_image_DBN(gibbs_steps, 1)  # 1 image with 100 Gibbs steps\n",
    "    \n",
    "    img_reshaped = img[0].cpu().reshape(20, 16)\n",
    "    \n",
    "    axs[i].imshow(img_reshaped, cmap='Greys')\n",
    "    axs[i].set_title(list(caracs.keys())[i])\n",
    "    axs[i].axis('off')\n",
    "\n",
    "# Adjust layout to prevent overlap\n",
    "# plt.tight_layout()\n",
    "plt.show()"
   ]
  },
  {
   "cell_type": "markdown",
   "metadata": {},
   "source": [
    "# Étude sur MNIST"
   ]
  },
  {
   "cell_type": "markdown",
   "metadata": {},
   "source": [
    "## Chargement des données MNIST et processing"
   ]
  },
  {
   "cell_type": "code",
   "execution_count": 9,
   "metadata": {},
   "outputs": [],
   "source": [
    "from principal_DNN_MNIST import *"
   ]
  },
  {
   "cell_type": "code",
   "execution_count": 16,
   "metadata": {},
   "outputs": [],
   "source": [
    "import torchvision.datasets\n",
    "device = torch.device(\"cuda\" if torch.cuda.is_available() else \"cpu\")\n",
    "\n",
    "# if not exist, download mnist dataset\n",
    "train_set = torchvision.datasets.MNIST(root='./data', train=True, transform=None, download=True)\n",
    "test_set = torchvision.datasets.MNIST(root='./data', train=False, transform=None, download=True)\n",
    "batch_size = 100\n",
    "\n",
    "train_set.data = (train_set.data > 127).float()\n",
    "test_set.data = (test_set.data > 127).float()\n",
    "\n",
    "\n",
    "# Applatir les images (28*28) en vecteurs (784)\n",
    "train_mnist = train_set.data.view(train_set.data.shape[0], -1).double().to(device)\n",
    "test_mnist = test_set.data.view(test_set.data.shape[0], -1).double().to(device) \n"
   ]
  },
  {
   "cell_type": "code",
   "execution_count": 17,
   "metadata": {},
   "outputs": [
    {
     "data": {
      "text/plain": [
       "(torch.Size([60000, 784]),\n",
       " torch.Size([60000, 10]),\n",
       " torch.Size([10000, 784]),\n",
       " torch.Size([10000, 10]))"
      ]
     },
     "execution_count": 17,
     "metadata": {},
     "output_type": "execute_result"
    }
   ],
   "source": [
    "# One Hot Encoding des labels\n",
    "labels_train_mnist = torch.nn.functional.one_hot(train_set.targets).float().to(device)\n",
    "labels_test_mnist = torch.nn.functional.one_hot(test_set.targets).float().to(device)\n",
    "\n",
    "\n",
    "train_mnist.shape, labels_train_mnist.shape, test_mnist.shape, labels_test_mnist.shape\n"
   ]
  },
  {
   "cell_type": "markdown",
   "metadata": {},
   "source": [
    "## Test du DNN sur MNIST"
   ]
  },
  {
   "cell_type": "code",
   "execution_count": 19,
   "metadata": {},
   "outputs": [],
   "source": [
    "nb_pixels = train_mnist.shape[1]\n",
    "neurons = 200\n",
    "epochs = 200\n",
    "learning_rate = 0.1\n",
    "layers_dbn = [nb_pixels, neurons, neurons, neurons]\n",
    "nb_classes = len(train_set.class_to_idx)"
   ]
  },
  {
   "cell_type": "markdown",
   "metadata": {},
   "source": [
    "### DNN pré-entrainé"
   ]
  },
  {
   "cell_type": "code",
   "execution_count": null,
   "metadata": {},
   "outputs": [],
   "source": [
    "dnn_pretrain = DNN(layers_dbn, nb_classes=nb_classes)\n",
    "dnn_pretrain.pretrain_DNN(x=train_mnist, epochs=[epochs], lr=learning_rate)"
   ]
  },
  {
   "cell_type": "code",
   "execution_count": 18,
   "metadata": {},
   "outputs": [
    {
     "data": {
      "text/plain": [
       "torch.float64"
      ]
     },
     "execution_count": 18,
     "metadata": {},
     "output_type": "execute_result"
    }
   ],
   "source": [
    "train_mnist.dtype"
   ]
  }
 ],
 "metadata": {
  "kernelspec": {
   "display_name": "Python 3",
   "language": "python",
   "name": "python3"
  },
  "language_info": {
   "codemirror_mode": {
    "name": "ipython",
    "version": 3
   },
   "file_extension": ".py",
   "mimetype": "text/x-python",
   "name": "python",
   "nbconvert_exporter": "python",
   "pygments_lexer": "ipython3",
   "version": "3.10.8"
  }
 },
 "nbformat": 4,
 "nbformat_minor": 2
}
