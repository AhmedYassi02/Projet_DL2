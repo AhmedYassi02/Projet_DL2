{
 "cells": [
  {
   "cell_type": "code",
   "execution_count": 23,
   "metadata": {},
   "outputs": [],
   "source": [
    "import scipy.io\n",
    "import numpy as np  "
   ]
  },
  {
   "cell_type": "code",
   "execution_count": 30,
   "metadata": {},
   "outputs": [],
   "source": [
    "path_data = \"data/binaryalphadigs.mat\"\n",
    "caracs = {\n",
    "    '0':0, '1':1, '2':2, '3':3, '3':3, '4':4, '5':5, '6':6, '7':7, '8':8, '9':9, \n",
    "    'A':10, 'B':11, 'C':12, 'D':13, 'E':14, 'F':15, 'G':16, 'H':17, 'I':18,\n",
    "    'J':19, 'K':20, 'L':21, 'M':22, 'N':23, 'O':24, 'P':25, 'Q':26, 'R':27,\n",
    "    'S':28, 'T':29, 'U':30, 'V':31, 'W':32, 'X':33, 'Y':34, 'Z':35 \n",
    "}"
   ]
  },
  {
   "cell_type": "code",
   "execution_count": 3,
   "metadata": {},
   "outputs": [],
   "source": [
    "data = scipy.io.loadmat(path_data)"
   ]
  },
  {
   "cell_type": "code",
   "execution_count": 35,
   "metadata": {},
   "outputs": [],
   "source": [
    "def lire_alpha_digit(caractere_list, path_data):\n",
    "    # caractere_list = [caracs[el] for el in caractere_list]\n",
    "    n = len(caractere_list)\n",
    "    caractere_list = map(lambda x: caracs[x], caractere_list)\n",
    "    print(caractere_list)\n",
    "    data = scipy.io.loadmat(path_data)\n",
    "    data = list(data['dat'][i] for i in caractere_list)\n",
    "    final_data = []\n",
    "    # For each letter\n",
    "    for i in range(n):\n",
    "        data_tmp = [data[i][j].flatten() for j in range(39)] \n",
    "        final_data.append(np.vstack(data_tmp))\n",
    "        if np.vstack(data_tmp).shape[0] != 39:\n",
    "            raise ValueError\n",
    "        \n",
    "    p = final_data[0].shape[1]\n",
    "    final_data = np.vstack(final_data)\n",
    "    final_data = np.resize(final_data, (final_data.shape[0], 1, final_data.shape[1]))\n",
    "\n",
    "    return final_data, p"
   ]
  },
  {
   "cell_type": "code",
   "execution_count": 36,
   "metadata": {},
   "outputs": [
    {
     "name": "stdout",
     "output_type": "stream",
     "text": [
      "<map object at 0x0000027DE6ECF1F0>\n"
     ]
    },
    {
     "data": {
      "text/plain": [
       "(array([[[0, 0, 0, ..., 1, 0, 0]],\n",
       " \n",
       "        [[0, 0, 0, ..., 1, 1, 1]],\n",
       " \n",
       "        [[0, 0, 0, ..., 1, 1, 1]],\n",
       " \n",
       "        ...,\n",
       " \n",
       "        [[0, 0, 0, ..., 1, 1, 0]],\n",
       " \n",
       "        [[0, 0, 0, ..., 0, 0, 0]],\n",
       " \n",
       "        [[0, 0, 0, ..., 1, 1, 0]]], dtype=uint8),\n",
       " 320)"
      ]
     },
     "execution_count": 36,
     "metadata": {},
     "output_type": "execute_result"
    }
   ],
   "source": [
    "lire_alpha_digit(['A', 'B'], path_data)"
   ]
  }
 ],
 "metadata": {
  "kernelspec": {
   "display_name": "Python 3",
   "language": "python",
   "name": "python3"
  },
  "language_info": {
   "codemirror_mode": {
    "name": "ipython",
    "version": 3
   },
   "file_extension": ".py",
   "mimetype": "text/x-python",
   "name": "python",
   "nbconvert_exporter": "python",
   "pygments_lexer": "ipython3",
   "version": "3.10.8"
  }
 },
 "nbformat": 4,
 "nbformat_minor": 2
}
